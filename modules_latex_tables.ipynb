{
 "cells": [
  {
   "cell_type": "markdown",
   "metadata": {
    "deletable": true,
    "editable": true
   },
   "source": [
    "# Module to make latex tables using pandas.\n",
    "\n",
    "### Modes of making latex table:\n",
    "- Simple table using gvar\n",
    "- Table with powers of 10 without gvar.\n",
    "- Table with val(error) without gvar.\n",
    "    \n",
    "    \n",
    "#### Nov 14, 2017."
   ]
  },
  {
   "cell_type": "markdown",
   "metadata": {
    "deletable": true,
    "editable": true
   },
   "source": [
    "## Steps involved:\n",
    "- Define functions\n",
    "- Read data from csv into Dataframe and organize index\n",
    "- Create latex code for table\n",
    "- Write latex code to a blank .tex file to check whether it formats correctly."
   ]
  },
  {
   "cell_type": "code",
   "execution_count": 1,
   "metadata": {
    "collapsed": true,
    "deletable": true,
    "editable": true
   },
   "outputs": [],
   "source": [
    "import pandas as pd\n",
    "import numpy as np\n",
    "import os\n",
    "import subprocess as sp\n",
    "import glob\n"
   ]
  },
  {
   "cell_type": "code",
   "execution_count": 2,
   "metadata": {
    "collapsed": true,
    "deletable": true,
    "editable": true
   },
   "outputs": [],
   "source": [
    "# Uses gvar \n",
    "\n",
    "import gvar as gv\n",
    "\n",
    "def f_gvarize(df,col1,col2):\n",
    "    '''\n",
    "    Get Dataframe column with val(err).\n",
    "    Get val(err) using gvar \n",
    "    \n",
    "    '''\n",
    "    df1=df.copy()\n",
    "    col3=[gv.gvar(j[col1],j[col2]) for i,j in df.iterrows()]\n",
    "    df2=df1.drop(labels=[col1,col2],axis=1)\n",
    "\n",
    "    df2[col1]=np.array(col3,dtype=str)\n",
    "\n",
    "    return df2\n"
   ]
  },
  {
   "cell_type": "markdown",
   "metadata": {
    "deletable": true,
    "editable": true
   },
   "source": [
    "## Explanation for frexp10\n",
    "\n",
    "Given $ p $ we need to find $ a $ and $ b $ such that:\n",
    "$$ p = a \\times 10^b .$$\n",
    "Taking log on both sides:\n",
    "$$ \\log p = \\log_{10}(a) + b $$\n",
    "Split $ \\log p $ into interger part + decimal $$ \\log p = Int[\\log p] + Dec[\\log p] = x + y  .$$\n",
    "Therefore, $ b = x  $ and $ \\log_{10}(a) = y $. (Since 'b' is defined to be an integer. We want 10^{integer}.)\n",
    "  \n",
    "Hence, $ a = 10^{y} $. \n",
    "\n",
    "\n",
    "For -ve p, need modification\n",
    "\n"
   ]
  },
  {
   "cell_type": "code",
   "execution_count": 3,
   "metadata": {
    "collapsed": false,
    "deletable": true,
    "editable": true
   },
   "outputs": [],
   "source": [
    "## Functions for fancy latex table with powers of 10.\n",
    "\n",
    "def frexp10(p):\n",
    "    '''\n",
    "    Function to express a positive floating point number as :   y=a 10^b\n",
    "    log_10 p = log_10 (a) + b = x = dec + b\n",
    "    for p>1, b is +ve, so integer part of x (=b) is power and 10**dec is \n",
    "    for p<0, modification required. b = b-1, dec = 1 + dec\n",
    "    \n",
    "    '''\n",
    "    L=np.log10(p) # get log to the base 10\n",
    "    M=np.modf(L) # split a float into integer part and rest. M[0] is decimal part, M[1] is integer part\n",
    "    \n",
    "    y,x=M[0],M[1]\n",
    "    \n",
    "    if p < 1.0 :\n",
    "        y=1.0+y\n",
    "        x=x-1\n",
    "        \n",
    "    a=10**y\n",
    "    b=x\n",
    "    fcoeff,fpow=a,b\n",
    "    \n",
    "    return fcoeff,fpow\n",
    "    \n",
    "\n",
    "def f_value_error(c1,c2,mode='latex',float_type='eng'):\n",
    "    '''\n",
    "    Function that reads two numbers : value and error.\n",
    "    It finds the power of the error(c2), extracts 1st digit of error and uses that to write value(c1).\n",
    "    \n",
    "    Two modes for float_type:\n",
    "    1. float_type:'scientific'   : gives string of the form value(error) \\times 10^{exponent}.\n",
    "    2. float_type:'eng' (default): gives string of the form value(error).\n",
    "    Two modes:\n",
    "    1. mode 'latex' : Gives string that can be used directly in latex file.\n",
    "    2. mode 'normal': Gives a value(eng) or a list(scientific).\n",
    "    \n",
    "    Need an exception if c2 = 0.\n",
    "    Two cases for 'eng' for error>1 and error <1.\n",
    "    \n",
    "    \n",
    "    \n",
    "    '''\n",
    "    \n",
    "    # Exception for c2=0\n",
    "    if c2==0:\n",
    "        if mode=='latex':\n",
    "            return '$'+str(c1)+'$'\n",
    "        elif mode=='normal':\n",
    "            return [str(c1)]\n",
    "        \n",
    "    else :\n",
    "        a=frexp10(c2)\n",
    "        b=np.rint(c1/(10**a[1]))\n",
    "        c=np.around(a[0])\n",
    "        \n",
    "        # For 'eng' type, two cases for error >1 and error <1.\n",
    "        if float_type=='eng':\n",
    "            if a[1]<0.0: # For power_of_error<0.0 ie error<1, print error as it is\n",
    "                # But, values needs some careful handling.\n",
    "                # If it has zeros at the end, str(float) trucates it. \n",
    "                # So, use the power of 10 to get number of significant digits and make string accordingly.\n",
    "                str_temp=\"%df\"%(int(np.abs(a[1])))\n",
    "                prnt_str=\"%.\"+str_temp                 \n",
    "                d=prnt_str%(b*(10**a[1]))+'('+str(int(c))+')' # amounts to \"%.3f\"%(val) + err\n",
    "            \n",
    "            elif a[1]>=0.0: # For error >1, multiply error with value and print it\n",
    "                d=str(int(b*(10**a[1])))+'('+str(int(c*(10**a[1])))+')'\n",
    "\n",
    "#     print a,b,c\n",
    "    try:\n",
    "        if mode=='latex':\n",
    "            if float_type=='scientific':\n",
    "                ans='$'+ str(int(b))+'('+str(int(c))+') \\\\times 10^{'+str(int(a[1]))+'}$'\n",
    "            elif float_type=='eng':\n",
    "                ans='$'+d+'$'\n",
    "                \n",
    "        elif mode=='normal' :\n",
    "            if float_type=='scientific':\n",
    "                ans=[str(int(b))+'('+str(int(c))+')','10^{'+str(int(a[1]))+\"}\"]\n",
    "            elif float_type=='eng':\n",
    "                ans=d\n",
    "    except Exception as e:\n",
    "        print e\n",
    "        print \"Original values\",c1,c2\n",
    "        print \"a,b,c\",a,b,c,\n",
    "        raise SystemError\n",
    "        \n",
    "    return ans\n",
    "\n",
    "def f_df_val_err(df,col1,col2,mode='latex',float_type='eng'):\n",
    "    '''\n",
    "    Code to get column with val(err) in dataframe for 2 columns\n",
    "    Reads dataframe and the two column names,\n",
    "    Uses 'f_value_error' function on each pair of numbers\n",
    "    '''\n",
    "    \n",
    "    df2=df[:]    \n",
    "    gg=[f_value_error(col[col1],col[col2],mode=mode,float_type=float_type) for row,col in df.iterrows()]\n",
    "    df3=df2.drop(labels=[col1,col2],axis=1)\n",
    "    df3[col1]=np.array(gg,dtype=str)\n",
    "    return df3\n"
   ]
  },
  {
   "cell_type": "code",
   "execution_count": 5,
   "metadata": {
    "collapsed": false,
    "deletable": true,
    "editable": true
   },
   "outputs": [
    {
     "name": "stdout",
     "output_type": "stream",
     "text": [
      "Testing modules\n",
      "(2.0, 0.0)\n",
      "$2.0(3)$\n"
     ]
    }
   ],
   "source": [
    "# Testing modules and getting data in DataFrame\n",
    "\n",
    "if __name__==\"__main__\":\n",
    "    print \"Testing modules\"\n",
    "    print frexp10(2.00)\n",
    "    print f_value_error(2.00,0.003)\n",
    "\n",
    "if __name__==\"__main__\":\n",
    "    write_data_dir='test_data/'\n",
    "    fname=write_data_dir+'gathered_data_df.txt'\n",
    "    df5=pd.read_csv(fname,sep='\\t',header=0,names=['U','L','chi','dchi'],index_col = False).reset_index().drop('index',1)\n",
    "    df5['L']=df5['L'].astype(int)\n",
    "    df6=f_df_val_err(df5,'chi','dchi')\n",
    "    df7=f_gvarize(df5,'chi','dchi')"
   ]
  },
  {
   "cell_type": "code",
   "execution_count": null,
   "metadata": {
    "collapsed": false,
    "deletable": true,
    "editable": true
   },
   "outputs": [],
   "source": []
  },
  {
   "cell_type": "code",
   "execution_count": 7,
   "metadata": {
    "collapsed": false,
    "deletable": true,
    "editable": true
   },
   "outputs": [
    {
     "name": "stdout",
     "output_type": "stream",
     "text": [
      "Writing 'doc_pre' (str) to file 'latex_table/table.tex'.\n",
      "Writing 'table_pre' (str) to file 'latex_table/table.tex'.\n",
      "Writing 'table_form' (unicode) to file 'latex_table/table.tex'.\n",
      "Writing 'table_end' (str) to file 'latex_table/table.tex'.\n",
      "Writing 'page_break' (str) to file 'latex_table/table.tex'.\n",
      "Writing 'doc_end' (str) to file 'latex_table/table.tex'.\n"
     ]
    }
   ],
   "source": [
    "# Write table to a file \n",
    "if __name__==\"__main__\":\n",
    "    write_data_dir='test_data/'\n",
    "    \n",
    "    ############# Get latex code #############\n",
    "    # Stuff to write to a blank latex file\n",
    "    # Don't forget to add the following packages to latex document: \\usepackage{booktabs,longtable}\n",
    "    doc_pre=\"\\documentclass{article}\\n\\usepackage{longtable}\\n\\usepackage{booktabs}\\n\"\n",
    "    doc_pre=\"\\documentclass{article}\\n\\usepackage{longtable,booktabs}\\n\\\\begin{document}\"\n",
    "    doc_end=\"\\end{document}\"\n",
    "    table_pre=\"\\n\\\\begin{table}[htb]\\n\"\n",
    "    table_end=\"\\end{table}\"\n",
    "    page_break=\"\\\\newpage\"\n",
    "    \n",
    "    # Create latex code from a dataframe\n",
    "    df=df6[:]\n",
    "    # Rename columns to include $ $ signs.\n",
    "    df.rename(columns={'chi':'$ \\chi $','L':'$ L $ ','U': '$U$'},inplace=True)\n",
    "    # Write to latex\n",
    "    table_form=df.to_latex(index=False,\n",
    "                           column_format='|c|l||r|',\n",
    "                           longtable=False,\n",
    "                           escape=False)\n",
    "    caption='\\caption{Values for $\\\\langle n \\\\rangle$ for square lattices with open boundary conditions\\\n",
    ", used in Fig. 8. Here $ U=0.3$ and $ L = 40,64$. }\\n'\n",
    "    table_form+=caption\n",
    "    \n",
    "    \n",
    "    ######## Now write everything to file ##########\n",
    "    \n",
    "    %store doc_pre > latex_table/table.tex\n",
    "    # Writing table 1\n",
    "    %store table_pre >> latex_table/table.tex\n",
    "    %store table_form >> latex_table/table.tex\n",
    "    %store table_end >> latex_table/table.tex\n",
    "    %store page_break >> latex_table/table.tex\n",
    "    %store doc_end >> latex_table/table.tex\n"
   ]
  },
  {
   "cell_type": "markdown",
   "metadata": {
    "deletable": true,
    "editable": true
   },
   "source": [
    "## For more details, refer to the 'gather_data_Thirring_project' notebook.\n",
    "### There are more details about longtable, splitting up tables side by side, etc."
   ]
  },
  {
   "cell_type": "code",
   "execution_count": null,
   "metadata": {
    "collapsed": false,
    "deletable": true,
    "editable": true
   },
   "outputs": [],
   "source": []
  }
 ],
 "metadata": {
  "anaconda-cloud": {},
  "kernelspec": {
   "display_name": "Python [conda root]",
   "language": "python",
   "name": "conda-root-py"
  },
  "language_info": {
   "codemirror_mode": {
    "name": "ipython",
    "version": 2
   },
   "file_extension": ".py",
   "mimetype": "text/x-python",
   "name": "python",
   "nbconvert_exporter": "python",
   "pygments_lexer": "ipython2",
   "version": "2.7.12"
  },
  "toc": {
   "nav_menu": {},
   "number_sections": false,
   "sideBar": true,
   "skip_h1_title": false,
   "toc_cell": false,
   "toc_position": {
    "height": "570px",
    "left": "0px",
    "right": "1068px",
    "top": "106px",
    "width": "212px"
   },
   "toc_section_display": "block",
   "toc_window_display": false
  }
 },
 "nbformat": 4,
 "nbformat_minor": 0
}
