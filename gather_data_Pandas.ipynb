{
 "cells": [
  {
   "cell_type": "markdown",
   "metadata": {},
   "source": [
    "# Generic code to gather raw data into DataFrame.\n",
    "\n",
    "### Oct 13, 2017."
   ]
  },
  {
   "cell_type": "code",
   "execution_count": 1,
   "metadata": {
    "collapsed": true
   },
   "outputs": [],
   "source": [
    "import pandas as pd\n",
    "import numpy as np\n",
    "import os\n",
    "import subprocess as sp\n",
    "import glob\n"
   ]
  },
  {
   "cell_type": "code",
   "execution_count": 2,
   "metadata": {},
   "outputs": [
    {
     "name": "stdout",
     "output_type": "stream",
     "text": [
      "gather_data_Pandas.ipynb    \u001b[1m\u001b[34mtest_data\u001b[m\u001b[m/\r\n",
      "modules_latex_tables.ipynb\r\n"
     ]
    }
   ],
   "source": [
    "ls"
   ]
  },
  {
   "cell_type": "code",
   "execution_count": 3,
   "metadata": {
    "collapsed": true
   },
   "outputs": [],
   "source": [
    "data_dir='test_data/raw_data/'\n",
    "write_data_dir='test_data/'"
   ]
  },
  {
   "cell_type": "code",
   "execution_count": 15,
   "metadata": {},
   "outputs": [],
   "source": [
    "# Get data into DataFrame\n",
    "\n",
    "# Define Dataframe\n",
    "cols=['U','L','chi','dchi']\n",
    "df1=pd.DataFrame(columns=cols)\n",
    "\n",
    "# Read raw data and write to DataFrame\n",
    "for a in glob.glob(data_dir+'Susc_U*'):\n",
    "    fname=a.split('/')[-1]  # Extracting just the file name 'Susc*'\n",
    "    U=fname.split('U')[-1]\n",
    "\n",
    "    # Reading in each file\n",
    "    aa1=np.loadtxt(a)\n",
    "    for row in aa1:\n",
    "        # Adjusting for square lattices : LX=LY\n",
    "        dict1=dict(zip(cols,[U] + row.tolist()))\n",
    "        df1=df1.append(dict1,ignore_index=True)\n",
    "\n",
    "# df1=df1.convert_objects(convert_numeric=True)\n",
    "\n",
    "df4=df1.copy()"
   ]
  },
  {
   "cell_type": "code",
   "execution_count": 16,
   "metadata": {},
   "outputs": [
    {
     "data": {
      "text/html": [
       "<div>\n",
       "<table border=\"1\" class=\"dataframe\">\n",
       "  <thead>\n",
       "    <tr style=\"text-align: right;\">\n",
       "      <th></th>\n",
       "      <th>U</th>\n",
       "      <th>L</th>\n",
       "      <th>chi</th>\n",
       "      <th>dchi</th>\n",
       "    </tr>\n",
       "  </thead>\n",
       "  <tbody>\n",
       "    <tr>\n",
       "      <th>0</th>\n",
       "      <td>0.1</td>\n",
       "      <td>64.0</td>\n",
       "      <td>0.261708</td>\n",
       "      <td>0.000702</td>\n",
       "    </tr>\n",
       "    <tr>\n",
       "      <th>1</th>\n",
       "      <td>0.1</td>\n",
       "      <td>96.0</td>\n",
       "      <td>0.307482</td>\n",
       "      <td>0.000621</td>\n",
       "    </tr>\n",
       "    <tr>\n",
       "      <th>2</th>\n",
       "      <td>0.1</td>\n",
       "      <td>128.0</td>\n",
       "      <td>0.343512</td>\n",
       "      <td>0.001326</td>\n",
       "    </tr>\n",
       "    <tr>\n",
       "      <th>3</th>\n",
       "      <td>0.1</td>\n",
       "      <td>160.0</td>\n",
       "      <td>0.377556</td>\n",
       "      <td>0.002448</td>\n",
       "    </tr>\n",
       "    <tr>\n",
       "      <th>4</th>\n",
       "      <td>0.1</td>\n",
       "      <td>256.0</td>\n",
       "      <td>0.459366</td>\n",
       "      <td>0.006132</td>\n",
       "    </tr>\n",
       "  </tbody>\n",
       "</table>\n",
       "</div>"
      ],
      "text/plain": [
       "     U      L       chi      dchi\n",
       "0  0.1   64.0  0.261708  0.000702\n",
       "1  0.1   96.0  0.307482  0.000621\n",
       "2  0.1  128.0  0.343512  0.001326\n",
       "3  0.1  160.0  0.377556  0.002448\n",
       "4  0.1  256.0  0.459366  0.006132"
      ]
     },
     "execution_count": 16,
     "metadata": {},
     "output_type": "execute_result"
    }
   ],
   "source": [
    "df4.head()"
   ]
  },
  {
   "cell_type": "markdown",
   "metadata": {},
   "source": [
    "## Modules:\n",
    "- write Dataframe to csv\n",
    "- read in csv to Dataframe and organize index\n",
    "- latex table\n"
   ]
  },
  {
   "cell_type": "markdown",
   "metadata": {},
   "source": [
    "## Write DataFrame to file"
   ]
  },
  {
   "cell_type": "code",
   "execution_count": 17,
   "metadata": {
    "collapsed": true
   },
   "outputs": [],
   "source": [
    "#Write to a file.\n",
    "df4.to_csv(write_data_dir+'gathered_data_df.txt',sep='\\t',index=False)\n",
    "# ! cat test_data/gather_data.txt"
   ]
  },
  {
   "cell_type": "markdown",
   "metadata": {},
   "source": [
    "## Read data from file"
   ]
  },
  {
   "cell_type": "code",
   "execution_count": 18,
   "metadata": {},
   "outputs": [],
   "source": [
    "fname=write_data_dir+'gathered_data_df.txt'\n",
    "df5=pd.read_csv(fname,sep='\\t',header=0,names=['U','L','chi','dchi'],index_col = False).reset_index().drop('index',1)\n",
    "df5['L']=df5['L'].astype(int)"
   ]
  },
  {
   "cell_type": "code",
   "execution_count": 19,
   "metadata": {
    "scrolled": true
   },
   "outputs": [
    {
     "data": {
      "text/html": [
       "<div>\n",
       "<table border=\"1\" class=\"dataframe\">\n",
       "  <thead>\n",
       "    <tr style=\"text-align: right;\">\n",
       "      <th></th>\n",
       "      <th>U</th>\n",
       "      <th>L</th>\n",
       "      <th>chi</th>\n",
       "      <th>dchi</th>\n",
       "    </tr>\n",
       "  </thead>\n",
       "  <tbody>\n",
       "    <tr>\n",
       "      <th>0</th>\n",
       "      <td>0.1</td>\n",
       "      <td>64</td>\n",
       "      <td>0.261708</td>\n",
       "      <td>0.000702</td>\n",
       "    </tr>\n",
       "    <tr>\n",
       "      <th>1</th>\n",
       "      <td>0.1</td>\n",
       "      <td>96</td>\n",
       "      <td>0.307482</td>\n",
       "      <td>0.000621</td>\n",
       "    </tr>\n",
       "    <tr>\n",
       "      <th>2</th>\n",
       "      <td>0.1</td>\n",
       "      <td>128</td>\n",
       "      <td>0.343512</td>\n",
       "      <td>0.001326</td>\n",
       "    </tr>\n",
       "    <tr>\n",
       "      <th>3</th>\n",
       "      <td>0.1</td>\n",
       "      <td>160</td>\n",
       "      <td>0.377556</td>\n",
       "      <td>0.002448</td>\n",
       "    </tr>\n",
       "    <tr>\n",
       "      <th>4</th>\n",
       "      <td>0.1</td>\n",
       "      <td>256</td>\n",
       "      <td>0.459366</td>\n",
       "      <td>0.006132</td>\n",
       "    </tr>\n",
       "  </tbody>\n",
       "</table>\n",
       "</div>"
      ],
      "text/plain": [
       "     U    L       chi      dchi\n",
       "0  0.1   64  0.261708  0.000702\n",
       "1  0.1   96  0.307482  0.000621\n",
       "2  0.1  128  0.343512  0.001326\n",
       "3  0.1  160  0.377556  0.002448\n",
       "4  0.1  256  0.459366  0.006132"
      ]
     },
     "execution_count": 19,
     "metadata": {},
     "output_type": "execute_result"
    }
   ],
   "source": [
    "df5.head()"
   ]
  },
  {
   "cell_type": "code",
   "execution_count": null,
   "metadata": {},
   "outputs": [],
   "source": []
  },
  {
   "cell_type": "code",
   "execution_count": null,
   "metadata": {
    "collapsed": true
   },
   "outputs": [],
   "source": []
  }
 ],
 "metadata": {
  "anaconda-cloud": {},
  "kernelspec": {
   "display_name": "Python 3",
   "language": "python",
   "name": "python3"
  },
  "language_info": {
   "codemirror_mode": {
    "name": "ipython",
    "version": 3
   },
   "file_extension": ".py",
   "mimetype": "text/x-python",
   "name": "python",
   "nbconvert_exporter": "python",
   "pygments_lexer": "ipython3",
   "version": "3.6.4"
  },
  "toc": {
   "base_numbering": 1,
   "nav_menu": {},
   "number_sections": true,
   "sideBar": true,
   "skip_h1_title": false,
   "title_cell": "Table of Contents",
   "title_sidebar": "Contents",
   "toc_cell": false,
   "toc_position": {},
   "toc_section_display": true,
   "toc_window_display": false
  }
 },
 "nbformat": 4,
 "nbformat_minor": 1
}
